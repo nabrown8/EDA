{
 "cells": [
  {
   "cell_type": "code",
   "execution_count": 1,
   "id": "6bb8f7e8",
   "metadata": {},
   "outputs": [],
   "source": [
    "import pandas as pd\n",
    "import numpy as np\n",
    "import cv2\n",
    "import os\n",
    "import matplotlib.pyplot as plt"
   ]
  },
  {
   "cell_type": "code",
   "execution_count": 2,
   "id": "78b80de8",
   "metadata": {},
   "outputs": [],
   "source": [
    "empatica = \"C:/Users/carlo/Documents/GitHub/EDA/empatica/data6.csv\"\n",
    "emotibit = \"C:/Users/carlo/Documents/GitHub/EDA/empatica/EmotiBit1668571105.1938765.csv\""
   ]
  },
  {
   "cell_type": "code",
   "execution_count": 3,
   "id": "8725d3d5",
   "metadata": {},
   "outputs": [],
   "source": [
    "df_empatica = pd.read_csv(empatica)\n",
    "\n",
    "df_emotibit = pd.read_csv(emotibit)"
   ]
  },
  {
   "cell_type": "code",
   "execution_count": 4,
   "id": "1ac5e423",
   "metadata": {},
   "outputs": [
    {
     "data": {
      "text/html": [
       "<div>\n",
       "<style scoped>\n",
       "    .dataframe tbody tr th:only-of-type {\n",
       "        vertical-align: middle;\n",
       "    }\n",
       "\n",
       "    .dataframe tbody tr th {\n",
       "        vertical-align: top;\n",
       "    }\n",
       "\n",
       "    .dataframe thead th {\n",
       "        text-align: right;\n",
       "    }\n",
       "</style>\n",
       "<table border=\"1\" class=\"dataframe\">\n",
       "  <thead>\n",
       "    <tr style=\"text-align: right;\">\n",
       "      <th></th>\n",
       "      <th>System Epoch</th>\n",
       "      <th>Device</th>\n",
       "      <th>Category</th>\n",
       "      <th>E4 Epoch</th>\n",
       "      <th>Value</th>\n",
       "    </tr>\n",
       "  </thead>\n",
       "  <tbody>\n",
       "    <tr>\n",
       "      <th>0</th>\n",
       "      <td>1668571112272</td>\n",
       "      <td>E4</td>\n",
       "      <td>Gsr</td>\n",
       "      <td>1.668571e+09</td>\n",
       "      <td>0.439605</td>\n",
       "    </tr>\n",
       "    <tr>\n",
       "      <th>1</th>\n",
       "      <td>1668571112272</td>\n",
       "      <td>E4</td>\n",
       "      <td>Gsr</td>\n",
       "      <td>1.668571e+09</td>\n",
       "      <td>0.438324</td>\n",
       "    </tr>\n",
       "    <tr>\n",
       "      <th>2</th>\n",
       "      <td>1668571112277</td>\n",
       "      <td>E4</td>\n",
       "      <td>Gsr</td>\n",
       "      <td>1.668571e+09</td>\n",
       "      <td>0.437043</td>\n",
       "    </tr>\n",
       "    <tr>\n",
       "      <th>3</th>\n",
       "      <td>1668571112277</td>\n",
       "      <td>E4</td>\n",
       "      <td>Gsr</td>\n",
       "      <td>1.668571e+09</td>\n",
       "      <td>0.431919</td>\n",
       "    </tr>\n",
       "    <tr>\n",
       "      <th>4</th>\n",
       "      <td>1668571112277</td>\n",
       "      <td>E4</td>\n",
       "      <td>Gsr</td>\n",
       "      <td>1.668571e+09</td>\n",
       "      <td>0.429358</td>\n",
       "    </tr>\n",
       "    <tr>\n",
       "      <th>...</th>\n",
       "      <td>...</td>\n",
       "      <td>...</td>\n",
       "      <td>...</td>\n",
       "      <td>...</td>\n",
       "      <td>...</td>\n",
       "    </tr>\n",
       "    <tr>\n",
       "      <th>2275</th>\n",
       "      <td>1668571680722</td>\n",
       "      <td>E4</td>\n",
       "      <td>Gsr</td>\n",
       "      <td>1.668572e+09</td>\n",
       "      <td>1.793850</td>\n",
       "    </tr>\n",
       "    <tr>\n",
       "      <th>2276</th>\n",
       "      <td>1668571680723</td>\n",
       "      <td>E4</td>\n",
       "      <td>Gsr</td>\n",
       "      <td>1.668572e+09</td>\n",
       "      <td>1.787445</td>\n",
       "    </tr>\n",
       "    <tr>\n",
       "      <th>2277</th>\n",
       "      <td>1668571680723</td>\n",
       "      <td>E4</td>\n",
       "      <td>Gsr</td>\n",
       "      <td>1.668572e+09</td>\n",
       "      <td>1.781041</td>\n",
       "    </tr>\n",
       "    <tr>\n",
       "      <th>2278</th>\n",
       "      <td>1668571680723</td>\n",
       "      <td>E4</td>\n",
       "      <td>Gsr</td>\n",
       "      <td>1.668572e+09</td>\n",
       "      <td>1.778479</td>\n",
       "    </tr>\n",
       "    <tr>\n",
       "      <th>2279</th>\n",
       "      <td>1668571680723</td>\n",
       "      <td>E4</td>\n",
       "      <td>Gsr</td>\n",
       "      <td>1.668572e+09</td>\n",
       "      <td>1.781041</td>\n",
       "    </tr>\n",
       "  </tbody>\n",
       "</table>\n",
       "<p>2280 rows × 5 columns</p>\n",
       "</div>"
      ],
      "text/plain": [
       "       System Epoch Device Category      E4 Epoch     Value\n",
       "0     1668571112272     E4      Gsr  1.668571e+09  0.439605\n",
       "1     1668571112272     E4      Gsr  1.668571e+09  0.438324\n",
       "2     1668571112277     E4      Gsr  1.668571e+09  0.437043\n",
       "3     1668571112277     E4      Gsr  1.668571e+09  0.431919\n",
       "4     1668571112277     E4      Gsr  1.668571e+09  0.429358\n",
       "...             ...    ...      ...           ...       ...\n",
       "2275  1668571680722     E4      Gsr  1.668572e+09  1.793850\n",
       "2276  1668571680723     E4      Gsr  1.668572e+09  1.787445\n",
       "2277  1668571680723     E4      Gsr  1.668572e+09  1.781041\n",
       "2278  1668571680723     E4      Gsr  1.668572e+09  1.778479\n",
       "2279  1668571680723     E4      Gsr  1.668572e+09  1.781041\n",
       "\n",
       "[2280 rows x 5 columns]"
      ]
     },
     "execution_count": 4,
     "metadata": {},
     "output_type": "execute_result"
    }
   ],
   "source": [
    "df_empatica"
   ]
  },
  {
   "cell_type": "markdown",
   "id": "46ed9d09",
   "metadata": {},
   "source": [
    "Normalizing"
   ]
  },
  {
   "cell_type": "code",
   "execution_count": 5,
   "id": "19abf41d",
   "metadata": {},
   "outputs": [],
   "source": [
    "df_emotibit[\"EDA\"] = (df_emotibit[\"EDA\"]-df_emotibit[\"EDA\"].min()) / (df_emotibit[\"EDA\"].max()-df_emotibit[\"EDA\"].min())\n",
    "\n",
    "df_empatica[\"Value\"] = (df_empatica[\"Value\"]-df_empatica[\"Value\"].min()) / (df_empatica[\"Value\"].max()-df_empatica[\"Value\"].min())"
   ]
  },
  {
   "cell_type": "markdown",
   "id": "f4481b3c",
   "metadata": {},
   "source": [
    "Delta Column for Empatica Data"
   ]
  },
  {
   "cell_type": "code",
   "execution_count": 6,
   "id": "704bc7aa",
   "metadata": {},
   "outputs": [],
   "source": [
    "df_empatica[\"Delta\"] = (df_empatica[\"E4 Epoch\"] - df_empatica[\"System Epoch\"])"
   ]
  },
  {
   "cell_type": "markdown",
   "id": "7fb3eecc",
   "metadata": {},
   "source": [
    "Converting to timestamp and creating new column for readability and being able to align the data"
   ]
  },
  {
   "cell_type": "code",
   "execution_count": 7,
   "id": "e794ef80",
   "metadata": {},
   "outputs": [],
   "source": [
    "df_empatica[\"Date\"] = pd.to_datetime(df_empatica[\"System Epoch\"], unit='ms')\n",
    "\n",
    "df_emotibit[\"Timestamp\"] = df_emotibit[\"Timestamp\"] *1000\n",
    "\n",
    "df_emotibit[\"Date\"] = pd.to_datetime(df_emotibit[\"Timestamp\"], unit='ms')"
   ]
  },
  {
   "cell_type": "markdown",
   "id": "61e85bb1",
   "metadata": {},
   "source": [
    "Aligning the data"
   ]
  },
  {
   "cell_type": "code",
   "execution_count": 8,
   "id": "6ed4a3a2",
   "metadata": {},
   "outputs": [],
   "source": [
    "val = df_empatica[\"Date\"][0]\n",
    "\n",
    "df_emotibit[\"Date\"]=df_emotibit[df_emotibit[\"Date\"]>=val]\n",
    "\n",
    "df_emotibit.dropna(inplace=True)"
   ]
  },
  {
   "cell_type": "markdown",
   "id": "8dfe21f9",
   "metadata": {},
   "source": [
    "Graphing the Data"
   ]
  },
  {
   "cell_type": "code",
   "execution_count": 9,
   "id": "ebdd1307",
   "metadata": {},
   "outputs": [],
   "source": [
    "Left = df_empatica[\"Value\"].dropna()"
   ]
  },
  {
   "cell_type": "markdown",
   "id": "c64b11ad",
   "metadata": {},
   "source": [
    "Clipping Major Outliers"
   ]
  },
  {
   "cell_type": "code",
   "execution_count": 10,
   "id": "2c9a9d09",
   "metadata": {
    "scrolled": true
   },
   "outputs": [],
   "source": [
    "df_empatica = df_empatica[df_empatica.Value<5]\n",
    "df_empatica = df_empatica[df_empatica.Value>=0]"
   ]
  },
  {
   "cell_type": "code",
   "execution_count": 11,
   "id": "092931ea",
   "metadata": {},
   "outputs": [],
   "source": [
    "Right = df_emotibit[\"EDA\"]"
   ]
  },
  {
   "cell_type": "code",
   "execution_count": 12,
   "id": "e6442367",
   "metadata": {},
   "outputs": [
    {
     "data": {
      "text/html": [
       "<div>\n",
       "<style scoped>\n",
       "    .dataframe tbody tr th:only-of-type {\n",
       "        vertical-align: middle;\n",
       "    }\n",
       "\n",
       "    .dataframe tbody tr th {\n",
       "        vertical-align: top;\n",
       "    }\n",
       "\n",
       "    .dataframe thead th {\n",
       "        text-align: right;\n",
       "    }\n",
       "</style>\n",
       "<table border=\"1\" class=\"dataframe\">\n",
       "  <thead>\n",
       "    <tr style=\"text-align: right;\">\n",
       "      <th></th>\n",
       "      <th>System Epoch</th>\n",
       "      <th>Device</th>\n",
       "      <th>Category</th>\n",
       "      <th>E4 Epoch</th>\n",
       "      <th>Value</th>\n",
       "      <th>Delta</th>\n",
       "      <th>Date</th>\n",
       "    </tr>\n",
       "  </thead>\n",
       "  <tbody>\n",
       "    <tr>\n",
       "      <th>0</th>\n",
       "      <td>1668571112272</td>\n",
       "      <td>E4</td>\n",
       "      <td>Gsr</td>\n",
       "      <td>1.668571e+09</td>\n",
       "      <td>0.007530</td>\n",
       "      <td>-1.666903e+12</td>\n",
       "      <td>2022-11-16 03:58:32.272</td>\n",
       "    </tr>\n",
       "    <tr>\n",
       "      <th>1</th>\n",
       "      <td>1668571112272</td>\n",
       "      <td>E4</td>\n",
       "      <td>Gsr</td>\n",
       "      <td>1.668571e+09</td>\n",
       "      <td>0.006693</td>\n",
       "      <td>-1.666903e+12</td>\n",
       "      <td>2022-11-16 03:58:32.272</td>\n",
       "    </tr>\n",
       "    <tr>\n",
       "      <th>2</th>\n",
       "      <td>1668571112277</td>\n",
       "      <td>E4</td>\n",
       "      <td>Gsr</td>\n",
       "      <td>1.668571e+09</td>\n",
       "      <td>0.005856</td>\n",
       "      <td>-1.666903e+12</td>\n",
       "      <td>2022-11-16 03:58:32.277</td>\n",
       "    </tr>\n",
       "    <tr>\n",
       "      <th>3</th>\n",
       "      <td>1668571112277</td>\n",
       "      <td>E4</td>\n",
       "      <td>Gsr</td>\n",
       "      <td>1.668571e+09</td>\n",
       "      <td>0.002510</td>\n",
       "      <td>-1.666903e+12</td>\n",
       "      <td>2022-11-16 03:58:32.277</td>\n",
       "    </tr>\n",
       "    <tr>\n",
       "      <th>4</th>\n",
       "      <td>1668571112277</td>\n",
       "      <td>E4</td>\n",
       "      <td>Gsr</td>\n",
       "      <td>1.668571e+09</td>\n",
       "      <td>0.000837</td>\n",
       "      <td>-1.666903e+12</td>\n",
       "      <td>2022-11-16 03:58:32.277</td>\n",
       "    </tr>\n",
       "    <tr>\n",
       "      <th>...</th>\n",
       "      <td>...</td>\n",
       "      <td>...</td>\n",
       "      <td>...</td>\n",
       "      <td>...</td>\n",
       "      <td>...</td>\n",
       "      <td>...</td>\n",
       "      <td>...</td>\n",
       "    </tr>\n",
       "    <tr>\n",
       "      <th>2275</th>\n",
       "      <td>1668571680722</td>\n",
       "      <td>E4</td>\n",
       "      <td>Gsr</td>\n",
       "      <td>1.668572e+09</td>\n",
       "      <td>0.892076</td>\n",
       "      <td>-1.666903e+12</td>\n",
       "      <td>2022-11-16 04:08:00.722</td>\n",
       "    </tr>\n",
       "    <tr>\n",
       "      <th>2276</th>\n",
       "      <td>1668571680723</td>\n",
       "      <td>E4</td>\n",
       "      <td>Gsr</td>\n",
       "      <td>1.668572e+09</td>\n",
       "      <td>0.887893</td>\n",
       "      <td>-1.666903e+12</td>\n",
       "      <td>2022-11-16 04:08:00.723</td>\n",
       "    </tr>\n",
       "    <tr>\n",
       "      <th>2277</th>\n",
       "      <td>1668571680723</td>\n",
       "      <td>E4</td>\n",
       "      <td>Gsr</td>\n",
       "      <td>1.668572e+09</td>\n",
       "      <td>0.883710</td>\n",
       "      <td>-1.666903e+12</td>\n",
       "      <td>2022-11-16 04:08:00.723</td>\n",
       "    </tr>\n",
       "    <tr>\n",
       "      <th>2278</th>\n",
       "      <td>1668571680723</td>\n",
       "      <td>E4</td>\n",
       "      <td>Gsr</td>\n",
       "      <td>1.668572e+09</td>\n",
       "      <td>0.882036</td>\n",
       "      <td>-1.666903e+12</td>\n",
       "      <td>2022-11-16 04:08:00.723</td>\n",
       "    </tr>\n",
       "    <tr>\n",
       "      <th>2279</th>\n",
       "      <td>1668571680723</td>\n",
       "      <td>E4</td>\n",
       "      <td>Gsr</td>\n",
       "      <td>1.668572e+09</td>\n",
       "      <td>0.883710</td>\n",
       "      <td>-1.666903e+12</td>\n",
       "      <td>2022-11-16 04:08:00.723</td>\n",
       "    </tr>\n",
       "  </tbody>\n",
       "</table>\n",
       "<p>2280 rows × 7 columns</p>\n",
       "</div>"
      ],
      "text/plain": [
       "       System Epoch Device Category      E4 Epoch     Value         Delta  \\\n",
       "0     1668571112272     E4      Gsr  1.668571e+09  0.007530 -1.666903e+12   \n",
       "1     1668571112272     E4      Gsr  1.668571e+09  0.006693 -1.666903e+12   \n",
       "2     1668571112277     E4      Gsr  1.668571e+09  0.005856 -1.666903e+12   \n",
       "3     1668571112277     E4      Gsr  1.668571e+09  0.002510 -1.666903e+12   \n",
       "4     1668571112277     E4      Gsr  1.668571e+09  0.000837 -1.666903e+12   \n",
       "...             ...    ...      ...           ...       ...           ...   \n",
       "2275  1668571680722     E4      Gsr  1.668572e+09  0.892076 -1.666903e+12   \n",
       "2276  1668571680723     E4      Gsr  1.668572e+09  0.887893 -1.666903e+12   \n",
       "2277  1668571680723     E4      Gsr  1.668572e+09  0.883710 -1.666903e+12   \n",
       "2278  1668571680723     E4      Gsr  1.668572e+09  0.882036 -1.666903e+12   \n",
       "2279  1668571680723     E4      Gsr  1.668572e+09  0.883710 -1.666903e+12   \n",
       "\n",
       "                        Date  \n",
       "0    2022-11-16 03:58:32.272  \n",
       "1    2022-11-16 03:58:32.272  \n",
       "2    2022-11-16 03:58:32.277  \n",
       "3    2022-11-16 03:58:32.277  \n",
       "4    2022-11-16 03:58:32.277  \n",
       "...                      ...  \n",
       "2275 2022-11-16 04:08:00.722  \n",
       "2276 2022-11-16 04:08:00.723  \n",
       "2277 2022-11-16 04:08:00.723  \n",
       "2278 2022-11-16 04:08:00.723  \n",
       "2279 2022-11-16 04:08:00.723  \n",
       "\n",
       "[2280 rows x 7 columns]"
      ]
     },
     "execution_count": 12,
     "metadata": {},
     "output_type": "execute_result"
    }
   ],
   "source": [
    "df_empatica"
   ]
  },
  {
   "cell_type": "code",
   "execution_count": 13,
   "id": "eed805bb",
   "metadata": {},
   "outputs": [],
   "source": [
    "df_emotibit[\"Date\"] = pd.to_datetime(df_emotibit[\"Date\"], unit='ms')"
   ]
  },
  {
   "cell_type": "code",
   "execution_count": 14,
   "id": "de3ffa3e",
   "metadata": {},
   "outputs": [],
   "source": [
    "pd.set_option('display.max_rows', 500)"
   ]
  },
  {
   "cell_type": "code",
   "execution_count": 15,
   "id": "531f2387",
   "metadata": {},
   "outputs": [],
   "source": [
    "df_emotibit[['h','m','s']] = pd.DataFrame([(x.hour, x.minute, x.second) for x in df_emotibit['Date']])"
   ]
  },
  {
   "cell_type": "markdown",
   "id": "0bf9670b",
   "metadata": {},
   "source": [
    "# Emotibit Finger"
   ]
  },
  {
   "cell_type": "code",
   "execution_count": 16,
   "id": "065c70d6",
   "metadata": {
    "scrolled": true
   },
   "outputs": [
    {
     "data": {
      "text/plain": [
       "[<matplotlib.lines.Line2D at 0x13a434bd160>]"
      ]
     },
     "execution_count": 16,
     "metadata": {},
     "output_type": "execute_result"
    },
    {
     "data": {
      "image/png": "[encoded data removed]",
      "text/plain": [
       "<Figure size 432x288 with 1 Axes>"
      ]
     },
     "metadata": {
      "needs_background": "light"
     },
     "output_type": "display_data"
    }
   ],
   "source": [
    "plt.plot(figsize=(12,6))\n",
    "plt.plot(Left)\n",
    "plt.plot(Right)"
   ]
  },
  {
   "cell_type": "code",
   "execution_count": 17,
   "id": "e6555d2a",
   "metadata": {
    "scrolled": true
   },
   "outputs": [],
   "source": [
    "Right = Right[::5]"
   ]
  },
  {
   "cell_type": "code",
   "execution_count": 18,
   "id": "47b4ff19",
   "metadata": {},
   "outputs": [],
   "source": [
    "Right =Right.reset_index()"
   ]
  },
  {
   "cell_type": "code",
   "execution_count": 19,
   "id": "0aa3cf2e",
   "metadata": {},
   "outputs": [
    {
     "data": {
      "text/plain": [
       "<matplotlib.legend.Legend at 0x13a42d56910>"
      ]
     },
     "execution_count": 19,
     "metadata": {},
     "output_type": "execute_result"
    },
    {
     "data": {
      "image/png": "[encoded data removed]",
      "text/plain": [
       "<Figure size 432x288 with 1 Axes>"
      ]
     },
     "metadata": {
      "needs_background": "light"
     },
     "output_type": "display_data"
    }
   ],
   "source": [
    "plt.plot(figsize=(12,6))\n",
    "plt.plot(Left)\n",
    "plt.plot(Right[\"EDA\"])\n",
    "plt.legend(['Empatica', 'Emotibit'])"
   ]
  },
  {
   "cell_type": "code",
   "execution_count": 20,
   "id": "9c035b11",
   "metadata": {},
   "outputs": [],
   "source": [
    "mean_emotibit=df_emotibit.groupby(['m', 's']).mean()"
   ]
  },
  {
   "cell_type": "code",
   "execution_count": 21,
   "id": "7ab3e639",
   "metadata": {},
   "outputs": [],
   "source": [
    "df_empatica[['h','m','s']] = pd.DataFrame([(x.hour, x.minute, x.second) for x in df_empatica['Date']])"
   ]
  },
  {
   "cell_type": "code",
   "execution_count": 22,
   "id": "dfb3b5c5",
   "metadata": {
    "scrolled": false
   },
   "outputs": [],
   "source": [
    "mean_empatica = df_empatica.groupby(['m', 's']).mean()"
   ]
  },
  {
   "cell_type": "code",
   "execution_count": 23,
   "id": "69fcb6c9",
   "metadata": {},
   "outputs": [],
   "source": [
    "mean_emotibit.reset_index(inplace=True)\n",
    "mean_empatica.reset_index(inplace=True)"
   ]
  },
  {
   "cell_type": "code",
   "execution_count": 24,
   "id": "7b4a001c",
   "metadata": {},
   "outputs": [],
   "source": [
    "emp = mean_empatica[\"Value\"]\n",
    "emo = mean_emotibit[\"EDA\"]"
   ]
  },
  {
   "cell_type": "code",
   "execution_count": 26,
   "id": "01b0a685",
   "metadata": {},
   "outputs": [
    {
     "data": {
      "text/plain": [
       "[<matplotlib.lines.Line2D at 0x13a446846a0>]"
      ]
     },
     "execution_count": 26,
     "metadata": {},
     "output_type": "execute_result"
    },
    {
     "data": {
      "image/png": "[encoded data removed]",
      "text/plain": [
       "<Figure size 432x288 with 1 Axes>"
      ]
     },
     "metadata": {
      "needs_background": "light"
     },
     "output_type": "display_data"
    }
   ],
   "source": [
    "plt.plot(figsize=(12,6))\n",
    "plt.plot(emo)\n",
    "plt.plot(emp)"
   ]
  }
 ],
 "metadata": {
  "kernelspec": {
   "display_name": "Python 3",
   "language": "python",
   "name": "python3"
  },
  "language_info": {
   "codemirror_mode": {
    "name": "ipython",
    "version": 3
   },
   "file_extension": ".py",
   "mimetype": "text/x-python",
   "name": "python",
   "nbconvert_exporter": "python",
   "pygments_lexer": "ipython3",
   "version": "3.8.8"
  }
 },
 "nbformat": 4,
 "nbformat_minor": 5
}
