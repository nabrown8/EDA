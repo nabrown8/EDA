{
 "cells": [
  {
   "cell_type": "code",
   "execution_count": 1,
   "id": "6bb8f7e8",
   "metadata": {},
   "outputs": [],
   "source": [
    "import pandas as pd\n",
    "import numpy as np\n",
    "import cv2\n",
    "import os\n",
    "import matplotlib.pyplot as plt"
   ]
  },
  {
   "cell_type": "code",
   "execution_count": 2,
   "id": "78b80de8",
   "metadata": {},
   "outputs": [],
   "source": [
    "empatica = \"C:/Users/carlo/Documents/GitHub/EDA/empatica/data6.csv\"\n",
    "emotibit = \"C:/Users/carlo/Documents/GitHub/EDA/empatica/EmotiBit1668571105.1938765.csv\""
   ]
  },
  {
   "cell_type": "code",
   "execution_count": 3,
   "id": "8725d3d5",
   "metadata": {},
   "outputs": [],
   "source": [
    "df_empatica = pd.read_csv(empatica)\n",
    "\n",
    "df_emotibit = pd.read_csv(emotibit)"
   ]
  },
  {
   "cell_type": "code",
   "execution_count": 4,
   "id": "1ac5e423",
   "metadata": {},
   "outputs": [
    {
     "data": {
      "text/html": [
       "<div>\n",
       "<style scoped>\n",
       "    .dataframe tbody tr th:only-of-type {\n",
       "        vertical-align: middle;\n",
       "    }\n",
       "\n",
       "    .dataframe tbody tr th {\n",
       "        vertical-align: top;\n",
       "    }\n",
       "\n",
       "    .dataframe thead th {\n",
       "        text-align: right;\n",
       "    }\n",
       "</style>\n",
       "<table border=\"1\" class=\"dataframe\">\n",
       "  <thead>\n",
       "    <tr style=\"text-align: right;\">\n",
       "      <th></th>\n",
       "      <th>System Epoch</th>\n",
       "      <th>E4 Epoch</th>\n",
       "      <th>Corrected Epoch</th>\n",
       "      <th>Value</th>\n",
       "      <th>Unnamed: 4</th>\n",
       "    </tr>\n",
       "  </thead>\n",
       "  <tbody>\n",
       "    <tr>\n",
       "      <th>0</th>\n",
       "      <td>1668571112272</td>\n",
       "      <td>1668571111648</td>\n",
       "      <td>1668571112258</td>\n",
       "      <td>0.4396</td>\n",
       "      <td>NaN</td>\n",
       "    </tr>\n",
       "    <tr>\n",
       "      <th>1</th>\n",
       "      <td>1668571112272</td>\n",
       "      <td>1668571111898</td>\n",
       "      <td>1668571112508</td>\n",
       "      <td>0.4383</td>\n",
       "      <td>NaN</td>\n",
       "    </tr>\n",
       "    <tr>\n",
       "      <th>2</th>\n",
       "      <td>1668571112277</td>\n",
       "      <td>1668571112148</td>\n",
       "      <td>1668571112758</td>\n",
       "      <td>0.4370</td>\n",
       "      <td>NaN</td>\n",
       "    </tr>\n",
       "    <tr>\n",
       "      <th>3</th>\n",
       "      <td>1668571112277</td>\n",
       "      <td>1668571112398</td>\n",
       "      <td>1668571113008</td>\n",
       "      <td>0.4319</td>\n",
       "      <td>NaN</td>\n",
       "    </tr>\n",
       "    <tr>\n",
       "      <th>4</th>\n",
       "      <td>1668571112277</td>\n",
       "      <td>1668571112648</td>\n",
       "      <td>1668571113258</td>\n",
       "      <td>0.4294</td>\n",
       "      <td>NaN</td>\n",
       "    </tr>\n",
       "    <tr>\n",
       "      <th>...</th>\n",
       "      <td>...</td>\n",
       "      <td>...</td>\n",
       "      <td>...</td>\n",
       "      <td>...</td>\n",
       "      <td>...</td>\n",
       "    </tr>\n",
       "    <tr>\n",
       "      <th>2275</th>\n",
       "      <td>1668571680722</td>\n",
       "      <td>1668571680398</td>\n",
       "      <td>1668571681008</td>\n",
       "      <td>1.7939</td>\n",
       "      <td>NaN</td>\n",
       "    </tr>\n",
       "    <tr>\n",
       "      <th>2276</th>\n",
       "      <td>1668571680723</td>\n",
       "      <td>1668571680648</td>\n",
       "      <td>1668571681258</td>\n",
       "      <td>1.7874</td>\n",
       "      <td>NaN</td>\n",
       "    </tr>\n",
       "    <tr>\n",
       "      <th>2277</th>\n",
       "      <td>1668571680723</td>\n",
       "      <td>1668571680898</td>\n",
       "      <td>1668571681508</td>\n",
       "      <td>1.7810</td>\n",
       "      <td>NaN</td>\n",
       "    </tr>\n",
       "    <tr>\n",
       "      <th>2278</th>\n",
       "      <td>1668571680723</td>\n",
       "      <td>1668571681148</td>\n",
       "      <td>1668571681758</td>\n",
       "      <td>1.7785</td>\n",
       "      <td>NaN</td>\n",
       "    </tr>\n",
       "    <tr>\n",
       "      <th>2279</th>\n",
       "      <td>1668571680723</td>\n",
       "      <td>1668571681398</td>\n",
       "      <td>1668571682008</td>\n",
       "      <td>1.7810</td>\n",
       "      <td>NaN</td>\n",
       "    </tr>\n",
       "  </tbody>\n",
       "</table>\n",
       "<p>2280 rows × 5 columns</p>\n",
       "</div>"
      ],
      "text/plain": [
       "       System Epoch       E4 Epoch  Corrected Epoch   Value  Unnamed: 4\n",
       "0     1668571112272  1668571111648    1668571112258  0.4396         NaN\n",
       "1     1668571112272  1668571111898    1668571112508  0.4383         NaN\n",
       "2     1668571112277  1668571112148    1668571112758  0.4370         NaN\n",
       "3     1668571112277  1668571112398    1668571113008  0.4319         NaN\n",
       "4     1668571112277  1668571112648    1668571113258  0.4294         NaN\n",
       "...             ...            ...              ...     ...         ...\n",
       "2275  1668571680722  1668571680398    1668571681008  1.7939         NaN\n",
       "2276  1668571680723  1668571680648    1668571681258  1.7874         NaN\n",
       "2277  1668571680723  1668571680898    1668571681508  1.7810         NaN\n",
       "2278  1668571680723  1668571681148    1668571681758  1.7785         NaN\n",
       "2279  1668571680723  1668571681398    1668571682008  1.7810         NaN\n",
       "\n",
       "[2280 rows x 5 columns]"
      ]
     },
     "execution_count": 4,
     "metadata": {},
     "output_type": "execute_result"
    }
   ],
   "source": [
    "df_empatica"
   ]
  },
  {
   "cell_type": "markdown",
   "id": "46ed9d09",
   "metadata": {},
   "source": [
    "Normalizing"
   ]
  },
  {
   "cell_type": "code",
   "execution_count": 5,
   "id": "19abf41d",
   "metadata": {},
   "outputs": [],
   "source": [
    "df_emotibit[\"EDA\"] = (df_emotibit[\"EDA\"]-df_emotibit[\"EDA\"].min()) / (df_emotibit[\"EDA\"].max()-df_emotibit[\"EDA\"].min())\n",
    "\n",
    "df_empatica[\"Value\"] = (df_empatica[\"Value\"]-df_empatica[\"Value\"].min()) / (df_empatica[\"Value\"].max()-df_empatica[\"Value\"].min())"
   ]
  },
  {
   "cell_type": "markdown",
   "id": "f4481b3c",
   "metadata": {},
   "source": [
    "Delta Column for Empatica Data"
   ]
  },
  {
   "cell_type": "code",
   "execution_count": 6,
   "id": "0d89b35c",
   "metadata": {},
   "outputs": [
    {
     "data": {
      "text/plain": [
       "1668571111648"
      ]
     },
     "execution_count": 6,
     "metadata": {},
     "output_type": "execute_result"
    }
   ],
   "source": [
    "df_empatica[\"E4 Epoch\"][0]"
   ]
  },
  {
   "cell_type": "code",
   "execution_count": 7,
   "id": "49ee2c5e",
   "metadata": {},
   "outputs": [
    {
     "data": {
      "text/plain": [
       "1668571112272"
      ]
     },
     "execution_count": 7,
     "metadata": {},
     "output_type": "execute_result"
    }
   ],
   "source": [
    "df_empatica[\"System Epoch\"][0]"
   ]
  },
  {
   "cell_type": "code",
   "execution_count": 8,
   "id": "ec6a6fc8",
   "metadata": {},
   "outputs": [
    {
     "data": {
      "text/html": [
       "<div>\n",
       "<style scoped>\n",
       "    .dataframe tbody tr th:only-of-type {\n",
       "        vertical-align: middle;\n",
       "    }\n",
       "\n",
       "    .dataframe tbody tr th {\n",
       "        vertical-align: top;\n",
       "    }\n",
       "\n",
       "    .dataframe thead th {\n",
       "        text-align: right;\n",
       "    }\n",
       "</style>\n",
       "<table border=\"1\" class=\"dataframe\">\n",
       "  <thead>\n",
       "    <tr style=\"text-align: right;\">\n",
       "      <th></th>\n",
       "      <th>System Epoch</th>\n",
       "      <th>E4 Epoch</th>\n",
       "      <th>Corrected Epoch</th>\n",
       "      <th>Value</th>\n",
       "      <th>Unnamed: 4</th>\n",
       "    </tr>\n",
       "  </thead>\n",
       "  <tbody>\n",
       "    <tr>\n",
       "      <th>0</th>\n",
       "      <td>1668571112272</td>\n",
       "      <td>1668571111648</td>\n",
       "      <td>1668571112258</td>\n",
       "      <td>0.007511</td>\n",
       "      <td>NaN</td>\n",
       "    </tr>\n",
       "    <tr>\n",
       "      <th>1</th>\n",
       "      <td>1668571112272</td>\n",
       "      <td>1668571111898</td>\n",
       "      <td>1668571112508</td>\n",
       "      <td>0.006662</td>\n",
       "      <td>NaN</td>\n",
       "    </tr>\n",
       "    <tr>\n",
       "      <th>2</th>\n",
       "      <td>1668571112277</td>\n",
       "      <td>1668571112148</td>\n",
       "      <td>1668571112758</td>\n",
       "      <td>0.005813</td>\n",
       "      <td>NaN</td>\n",
       "    </tr>\n",
       "    <tr>\n",
       "      <th>3</th>\n",
       "      <td>1668571112277</td>\n",
       "      <td>1668571112398</td>\n",
       "      <td>1668571113008</td>\n",
       "      <td>0.002482</td>\n",
       "      <td>NaN</td>\n",
       "    </tr>\n",
       "    <tr>\n",
       "      <th>4</th>\n",
       "      <td>1668571112277</td>\n",
       "      <td>1668571112648</td>\n",
       "      <td>1668571113258</td>\n",
       "      <td>0.000849</td>\n",
       "      <td>NaN</td>\n",
       "    </tr>\n",
       "    <tr>\n",
       "      <th>5</th>\n",
       "      <td>1668571112277</td>\n",
       "      <td>1668571112898</td>\n",
       "      <td>1668571113508</td>\n",
       "      <td>0.000000</td>\n",
       "      <td>NaN</td>\n",
       "    </tr>\n",
       "    <tr>\n",
       "      <th>6</th>\n",
       "      <td>1668571113758</td>\n",
       "      <td>1668571113148</td>\n",
       "      <td>1668571113758</td>\n",
       "      <td>0.000000</td>\n",
       "      <td>NaN</td>\n",
       "    </tr>\n",
       "    <tr>\n",
       "      <th>7</th>\n",
       "      <td>1668571113758</td>\n",
       "      <td>1668571113398</td>\n",
       "      <td>1668571114008</td>\n",
       "      <td>0.001633</td>\n",
       "      <td>NaN</td>\n",
       "    </tr>\n",
       "    <tr>\n",
       "      <th>8</th>\n",
       "      <td>1668571113758</td>\n",
       "      <td>1668571113648</td>\n",
       "      <td>1668571114258</td>\n",
       "      <td>0.001633</td>\n",
       "      <td>NaN</td>\n",
       "    </tr>\n",
       "    <tr>\n",
       "      <th>9</th>\n",
       "      <td>1668571113758</td>\n",
       "      <td>1668571113898</td>\n",
       "      <td>1668571114508</td>\n",
       "      <td>0.005029</td>\n",
       "      <td>NaN</td>\n",
       "    </tr>\n",
       "    <tr>\n",
       "      <th>10</th>\n",
       "      <td>1668571113758</td>\n",
       "      <td>1668571114148</td>\n",
       "      <td>1668571114758</td>\n",
       "      <td>0.007511</td>\n",
       "      <td>NaN</td>\n",
       "    </tr>\n",
       "    <tr>\n",
       "      <th>11</th>\n",
       "      <td>1668571113758</td>\n",
       "      <td>1668571114398</td>\n",
       "      <td>1668571115008</td>\n",
       "      <td>0.014239</td>\n",
       "      <td>NaN</td>\n",
       "    </tr>\n",
       "    <tr>\n",
       "      <th>12</th>\n",
       "      <td>1668571115266</td>\n",
       "      <td>1668571114648</td>\n",
       "      <td>1668571115258</td>\n",
       "      <td>0.017570</td>\n",
       "      <td>NaN</td>\n",
       "    </tr>\n",
       "    <tr>\n",
       "      <th>13</th>\n",
       "      <td>1668571115266</td>\n",
       "      <td>1668571115148</td>\n",
       "      <td>1668571115758</td>\n",
       "      <td>0.020901</td>\n",
       "      <td>NaN</td>\n",
       "    </tr>\n",
       "    <tr>\n",
       "      <th>14</th>\n",
       "      <td>1668571115266</td>\n",
       "      <td>1668571115398</td>\n",
       "      <td>1668571116008</td>\n",
       "      <td>0.022600</td>\n",
       "      <td>NaN</td>\n",
       "    </tr>\n",
       "    <tr>\n",
       "      <th>15</th>\n",
       "      <td>1668571115266</td>\n",
       "      <td>1668571115648</td>\n",
       "      <td>1668571116258</td>\n",
       "      <td>0.025931</td>\n",
       "      <td>NaN</td>\n",
       "    </tr>\n",
       "    <tr>\n",
       "      <th>16</th>\n",
       "      <td>1668571115266</td>\n",
       "      <td>1668571115898</td>\n",
       "      <td>1668571116508</td>\n",
       "      <td>0.035140</td>\n",
       "      <td>NaN</td>\n",
       "    </tr>\n",
       "    <tr>\n",
       "      <th>17</th>\n",
       "      <td>1668571115266</td>\n",
       "      <td>1668571114898</td>\n",
       "      <td>1668571115508</td>\n",
       "      <td>0.019203</td>\n",
       "      <td>NaN</td>\n",
       "    </tr>\n",
       "    <tr>\n",
       "      <th>18</th>\n",
       "      <td>1668571116771</td>\n",
       "      <td>1668571116148</td>\n",
       "      <td>1668571116758</td>\n",
       "      <td>0.042652</td>\n",
       "      <td>NaN</td>\n",
       "    </tr>\n",
       "    <tr>\n",
       "      <th>19</th>\n",
       "      <td>1668571116771</td>\n",
       "      <td>1668571116398</td>\n",
       "      <td>1668571117008</td>\n",
       "      <td>0.048530</td>\n",
       "      <td>NaN</td>\n",
       "    </tr>\n",
       "  </tbody>\n",
       "</table>\n",
       "</div>"
      ],
      "text/plain": [
       "     System Epoch       E4 Epoch  Corrected Epoch     Value  Unnamed: 4\n",
       "0   1668571112272  1668571111648    1668571112258  0.007511         NaN\n",
       "1   1668571112272  1668571111898    1668571112508  0.006662         NaN\n",
       "2   1668571112277  1668571112148    1668571112758  0.005813         NaN\n",
       "3   1668571112277  1668571112398    1668571113008  0.002482         NaN\n",
       "4   1668571112277  1668571112648    1668571113258  0.000849         NaN\n",
       "5   1668571112277  1668571112898    1668571113508  0.000000         NaN\n",
       "6   1668571113758  1668571113148    1668571113758  0.000000         NaN\n",
       "7   1668571113758  1668571113398    1668571114008  0.001633         NaN\n",
       "8   1668571113758  1668571113648    1668571114258  0.001633         NaN\n",
       "9   1668571113758  1668571113898    1668571114508  0.005029         NaN\n",
       "10  1668571113758  1668571114148    1668571114758  0.007511         NaN\n",
       "11  1668571113758  1668571114398    1668571115008  0.014239         NaN\n",
       "12  1668571115266  1668571114648    1668571115258  0.017570         NaN\n",
       "13  1668571115266  1668571115148    1668571115758  0.020901         NaN\n",
       "14  1668571115266  1668571115398    1668571116008  0.022600         NaN\n",
       "15  1668571115266  1668571115648    1668571116258  0.025931         NaN\n",
       "16  1668571115266  1668571115898    1668571116508  0.035140         NaN\n",
       "17  1668571115266  1668571114898    1668571115508  0.019203         NaN\n",
       "18  1668571116771  1668571116148    1668571116758  0.042652         NaN\n",
       "19  1668571116771  1668571116398    1668571117008  0.048530         NaN"
      ]
     },
     "execution_count": 8,
     "metadata": {},
     "output_type": "execute_result"
    }
   ],
   "source": [
    "df_empatica[:20]\n"
   ]
  },
  {
   "cell_type": "markdown",
   "id": "7fb3eecc",
   "metadata": {},
   "source": [
    "Converting to timestamp and creating new column for readability and being able to align the data"
   ]
  },
  {
   "cell_type": "code",
   "execution_count": 30,
   "id": "e794ef80",
   "metadata": {},
   "outputs": [
    {
     "ename": "OutOfBoundsDatetime",
     "evalue": "cannot convert input with unit 'ms'",
     "output_type": "error",
     "traceback": [
      "\u001b[1;31m---------------------------------------------------------------------------\u001b[0m",
      "\u001b[1;31mOutOfBoundsDatetime\u001b[0m                       Traceback (most recent call last)",
      "\u001b[1;32m<ipython-input-30-229fb2224eb4>\u001b[0m in \u001b[0;36m<module>\u001b[1;34m\u001b[0m\n\u001b[0;32m      3\u001b[0m \u001b[0mdf_emotibit\u001b[0m\u001b[1;33m[\u001b[0m\u001b[1;34m\"Timestamp\"\u001b[0m\u001b[1;33m]\u001b[0m \u001b[1;33m=\u001b[0m \u001b[0mdf_emotibit\u001b[0m\u001b[1;33m[\u001b[0m\u001b[1;34m\"Timestamp\"\u001b[0m\u001b[1;33m]\u001b[0m \u001b[1;33m*\u001b[0m\u001b[1;36m1000\u001b[0m\u001b[1;33m\u001b[0m\u001b[1;33m\u001b[0m\u001b[0m\n\u001b[0;32m      4\u001b[0m \u001b[1;33m\u001b[0m\u001b[0m\n\u001b[1;32m----> 5\u001b[1;33m \u001b[0mdf_emotibit\u001b[0m\u001b[1;33m[\u001b[0m\u001b[1;34m\"Date\"\u001b[0m\u001b[1;33m]\u001b[0m \u001b[1;33m=\u001b[0m \u001b[0mpd\u001b[0m\u001b[1;33m.\u001b[0m\u001b[0mto_datetime\u001b[0m\u001b[1;33m(\u001b[0m\u001b[0mdf_emotibit\u001b[0m\u001b[1;33m[\u001b[0m\u001b[1;34m\"Timestamp\"\u001b[0m\u001b[1;33m]\u001b[0m\u001b[1;33m,\u001b[0m \u001b[0munit\u001b[0m\u001b[1;33m=\u001b[0m\u001b[1;34m'ms'\u001b[0m\u001b[1;33m)\u001b[0m\u001b[1;33m\u001b[0m\u001b[1;33m\u001b[0m\u001b[0m\n\u001b[0m",
      "\u001b[1;32m~\\anaconda3\\lib\\site-packages\\pandas\\core\\tools\\datetimes.py\u001b[0m in \u001b[0;36mto_datetime\u001b[1;34m(arg, errors, dayfirst, yearfirst, utc, format, exact, unit, infer_datetime_format, origin, cache)\u001b[0m\n\u001b[0;32m    799\u001b[0m                 \u001b[0mresult\u001b[0m \u001b[1;33m=\u001b[0m \u001b[0mresult\u001b[0m\u001b[1;33m.\u001b[0m\u001b[0mtz_localize\u001b[0m\u001b[1;33m(\u001b[0m\u001b[0mtz\u001b[0m\u001b[1;33m)\u001b[0m\u001b[1;33m\u001b[0m\u001b[1;33m\u001b[0m\u001b[0m\n\u001b[0;32m    800\u001b[0m     \u001b[1;32melif\u001b[0m \u001b[0misinstance\u001b[0m\u001b[1;33m(\u001b[0m\u001b[0marg\u001b[0m\u001b[1;33m,\u001b[0m \u001b[0mABCSeries\u001b[0m\u001b[1;33m)\u001b[0m\u001b[1;33m:\u001b[0m\u001b[1;33m\u001b[0m\u001b[1;33m\u001b[0m\u001b[0m\n\u001b[1;32m--> 801\u001b[1;33m         \u001b[0mcache_array\u001b[0m \u001b[1;33m=\u001b[0m \u001b[0m_maybe_cache\u001b[0m\u001b[1;33m(\u001b[0m\u001b[0marg\u001b[0m\u001b[1;33m,\u001b[0m \u001b[0mformat\u001b[0m\u001b[1;33m,\u001b[0m \u001b[0mcache\u001b[0m\u001b[1;33m,\u001b[0m \u001b[0mconvert_listlike\u001b[0m\u001b[1;33m)\u001b[0m\u001b[1;33m\u001b[0m\u001b[1;33m\u001b[0m\u001b[0m\n\u001b[0m\u001b[0;32m    802\u001b[0m         \u001b[1;32mif\u001b[0m \u001b[1;32mnot\u001b[0m \u001b[0mcache_array\u001b[0m\u001b[1;33m.\u001b[0m\u001b[0mempty\u001b[0m\u001b[1;33m:\u001b[0m\u001b[1;33m\u001b[0m\u001b[1;33m\u001b[0m\u001b[0m\n\u001b[0;32m    803\u001b[0m             \u001b[0mresult\u001b[0m \u001b[1;33m=\u001b[0m \u001b[0marg\u001b[0m\u001b[1;33m.\u001b[0m\u001b[0mmap\u001b[0m\u001b[1;33m(\u001b[0m\u001b[0mcache_array\u001b[0m\u001b[1;33m)\u001b[0m\u001b[1;33m\u001b[0m\u001b[1;33m\u001b[0m\u001b[0m\n",
      "\u001b[1;32m~\\anaconda3\\lib\\site-packages\\pandas\\core\\tools\\datetimes.py\u001b[0m in \u001b[0;36m_maybe_cache\u001b[1;34m(arg, format, cache, convert_listlike)\u001b[0m\n\u001b[0;32m    176\u001b[0m         \u001b[0munique_dates\u001b[0m \u001b[1;33m=\u001b[0m \u001b[0munique\u001b[0m\u001b[1;33m(\u001b[0m\u001b[0marg\u001b[0m\u001b[1;33m)\u001b[0m\u001b[1;33m\u001b[0m\u001b[1;33m\u001b[0m\u001b[0m\n\u001b[0;32m    177\u001b[0m         \u001b[1;32mif\u001b[0m \u001b[0mlen\u001b[0m\u001b[1;33m(\u001b[0m\u001b[0munique_dates\u001b[0m\u001b[1;33m)\u001b[0m \u001b[1;33m<\u001b[0m \u001b[0mlen\u001b[0m\u001b[1;33m(\u001b[0m\u001b[0marg\u001b[0m\u001b[1;33m)\u001b[0m\u001b[1;33m:\u001b[0m\u001b[1;33m\u001b[0m\u001b[1;33m\u001b[0m\u001b[0m\n\u001b[1;32m--> 178\u001b[1;33m             \u001b[0mcache_dates\u001b[0m \u001b[1;33m=\u001b[0m \u001b[0mconvert_listlike\u001b[0m\u001b[1;33m(\u001b[0m\u001b[0munique_dates\u001b[0m\u001b[1;33m,\u001b[0m \u001b[0mformat\u001b[0m\u001b[1;33m)\u001b[0m\u001b[1;33m\u001b[0m\u001b[1;33m\u001b[0m\u001b[0m\n\u001b[0m\u001b[0;32m    179\u001b[0m             \u001b[0mcache_array\u001b[0m \u001b[1;33m=\u001b[0m \u001b[0mSeries\u001b[0m\u001b[1;33m(\u001b[0m\u001b[0mcache_dates\u001b[0m\u001b[1;33m,\u001b[0m \u001b[0mindex\u001b[0m\u001b[1;33m=\u001b[0m\u001b[0munique_dates\u001b[0m\u001b[1;33m)\u001b[0m\u001b[1;33m\u001b[0m\u001b[1;33m\u001b[0m\u001b[0m\n\u001b[0;32m    180\u001b[0m     \u001b[1;32mreturn\u001b[0m \u001b[0mcache_array\u001b[0m\u001b[1;33m\u001b[0m\u001b[1;33m\u001b[0m\u001b[0m\n",
      "\u001b[1;32m~\\anaconda3\\lib\\site-packages\\pandas\\core\\tools\\datetimes.py\u001b[0m in \u001b[0;36m_convert_listlike_datetimes\u001b[1;34m(arg, format, name, tz, unit, errors, infer_datetime_format, dayfirst, yearfirst, exact)\u001b[0m\n\u001b[0;32m    343\u001b[0m         \u001b[1;32melse\u001b[0m\u001b[1;33m:\u001b[0m\u001b[1;33m\u001b[0m\u001b[1;33m\u001b[0m\u001b[0m\n\u001b[0;32m    344\u001b[0m \u001b[1;33m\u001b[0m\u001b[0m\n\u001b[1;32m--> 345\u001b[1;33m             result, tz_parsed = tslib.array_with_unit_to_datetime(\n\u001b[0m\u001b[0;32m    346\u001b[0m                 \u001b[0marg\u001b[0m\u001b[1;33m,\u001b[0m \u001b[0munit\u001b[0m\u001b[1;33m,\u001b[0m \u001b[0merrors\u001b[0m\u001b[1;33m=\u001b[0m\u001b[0merrors\u001b[0m\u001b[1;33m\u001b[0m\u001b[1;33m\u001b[0m\u001b[0m\n\u001b[0;32m    347\u001b[0m             )\n",
      "\u001b[1;32mpandas\\_libs\\tslib.pyx\u001b[0m in \u001b[0;36mpandas._libs.tslib.array_with_unit_to_datetime\u001b[1;34m()\u001b[0m\n",
      "\u001b[1;31mOutOfBoundsDatetime\u001b[0m: cannot convert input with unit 'ms'"
     ]
    }
   ],
   "source": [
    "df_empatica[\"Date\"] = pd.to_datetime(df_empatica[\"Corrected Epoch\"], unit='ms')\n",
    "\n",
    "df_emotibit[\"Timestamp\"] = df_emotibit[\"Timestamp\"] *1000\n",
    "\n",
    "df_emotibit[\"Date\"] = pd.to_datetime(df_emotibit[\"Timestamp\"], unit='ms')"
   ]
  },
  {
   "cell_type": "markdown",
   "id": "61e85bb1",
   "metadata": {},
   "source": [
    "Aligning the data"
   ]
  },
  {
   "cell_type": "code",
   "execution_count": 10,
   "id": "6ed4a3a2",
   "metadata": {},
   "outputs": [],
   "source": [
    "val = df_empatica[\"Date\"][0]\n",
    "\n",
    "df_emotibit[\"Date\"]=df_emotibit[df_emotibit[\"Date\"]>=val]\n",
    "\n",
    "df_emotibit.dropna(inplace=True)"
   ]
  },
  {
   "cell_type": "markdown",
   "id": "8dfe21f9",
   "metadata": {},
   "source": [
    "Graphing the Data"
   ]
  },
  {
   "cell_type": "code",
   "execution_count": 11,
   "id": "ebdd1307",
   "metadata": {},
   "outputs": [],
   "source": [
    "Left = df_empatica[\"Value\"].dropna()"
   ]
  },
  {
   "cell_type": "markdown",
   "id": "c64b11ad",
   "metadata": {},
   "source": [
    "Clipping Major Outliers"
   ]
  },
  {
   "cell_type": "code",
   "execution_count": 12,
   "id": "2c9a9d09",
   "metadata": {
    "scrolled": true
   },
   "outputs": [],
   "source": [
    "df_empatica = df_empatica[df_empatica.Value<5]\n",
    "df_empatica = df_empatica[df_empatica.Value>=0]"
   ]
  },
  {
   "cell_type": "code",
   "execution_count": 13,
   "id": "092931ea",
   "metadata": {},
   "outputs": [],
   "source": [
    "Right = df_emotibit[\"EDA\"]"
   ]
  },
  {
   "cell_type": "code",
   "execution_count": 14,
   "id": "e6442367",
   "metadata": {},
   "outputs": [
    {
     "data": {
      "text/html": [
       "<div>\n",
       "<style scoped>\n",
       "    .dataframe tbody tr th:only-of-type {\n",
       "        vertical-align: middle;\n",
       "    }\n",
       "\n",
       "    .dataframe tbody tr th {\n",
       "        vertical-align: top;\n",
       "    }\n",
       "\n",
       "    .dataframe thead th {\n",
       "        text-align: right;\n",
       "    }\n",
       "</style>\n",
       "<table border=\"1\" class=\"dataframe\">\n",
       "  <thead>\n",
       "    <tr style=\"text-align: right;\">\n",
       "      <th></th>\n",
       "      <th>System Epoch</th>\n",
       "      <th>E4 Epoch</th>\n",
       "      <th>Corrected Epoch</th>\n",
       "      <th>Value</th>\n",
       "      <th>Unnamed: 4</th>\n",
       "      <th>Date</th>\n",
       "    </tr>\n",
       "  </thead>\n",
       "  <tbody>\n",
       "    <tr>\n",
       "      <th>0</th>\n",
       "      <td>1668571112272</td>\n",
       "      <td>1668571111648</td>\n",
       "      <td>1668571112258</td>\n",
       "      <td>0.007511</td>\n",
       "      <td>NaN</td>\n",
       "      <td>2022-11-16 03:58:32.272</td>\n",
       "    </tr>\n",
       "    <tr>\n",
       "      <th>1</th>\n",
       "      <td>1668571112272</td>\n",
       "      <td>1668571111898</td>\n",
       "      <td>1668571112508</td>\n",
       "      <td>0.006662</td>\n",
       "      <td>NaN</td>\n",
       "      <td>2022-11-16 03:58:32.272</td>\n",
       "    </tr>\n",
       "    <tr>\n",
       "      <th>2</th>\n",
       "      <td>1668571112277</td>\n",
       "      <td>1668571112148</td>\n",
       "      <td>1668571112758</td>\n",
       "      <td>0.005813</td>\n",
       "      <td>NaN</td>\n",
       "      <td>2022-11-16 03:58:32.277</td>\n",
       "    </tr>\n",
       "    <tr>\n",
       "      <th>3</th>\n",
       "      <td>1668571112277</td>\n",
       "      <td>1668571112398</td>\n",
       "      <td>1668571113008</td>\n",
       "      <td>0.002482</td>\n",
       "      <td>NaN</td>\n",
       "      <td>2022-11-16 03:58:32.277</td>\n",
       "    </tr>\n",
       "    <tr>\n",
       "      <th>4</th>\n",
       "      <td>1668571112277</td>\n",
       "      <td>1668571112648</td>\n",
       "      <td>1668571113258</td>\n",
       "      <td>0.000849</td>\n",
       "      <td>NaN</td>\n",
       "      <td>2022-11-16 03:58:32.277</td>\n",
       "    </tr>\n",
       "    <tr>\n",
       "      <th>...</th>\n",
       "      <td>...</td>\n",
       "      <td>...</td>\n",
       "      <td>...</td>\n",
       "      <td>...</td>\n",
       "      <td>...</td>\n",
       "      <td>...</td>\n",
       "    </tr>\n",
       "    <tr>\n",
       "      <th>2275</th>\n",
       "      <td>1668571680722</td>\n",
       "      <td>1668571680398</td>\n",
       "      <td>1668571681008</td>\n",
       "      <td>0.892097</td>\n",
       "      <td>NaN</td>\n",
       "      <td>2022-11-16 04:08:00.722</td>\n",
       "    </tr>\n",
       "    <tr>\n",
       "      <th>2276</th>\n",
       "      <td>1668571680723</td>\n",
       "      <td>1668571680648</td>\n",
       "      <td>1668571681258</td>\n",
       "      <td>0.887851</td>\n",
       "      <td>NaN</td>\n",
       "      <td>2022-11-16 04:08:00.723</td>\n",
       "    </tr>\n",
       "    <tr>\n",
       "      <th>2277</th>\n",
       "      <td>1668571680723</td>\n",
       "      <td>1668571680898</td>\n",
       "      <td>1668571681508</td>\n",
       "      <td>0.883671</td>\n",
       "      <td>NaN</td>\n",
       "      <td>2022-11-16 04:08:00.723</td>\n",
       "    </tr>\n",
       "    <tr>\n",
       "      <th>2278</th>\n",
       "      <td>1668571680723</td>\n",
       "      <td>1668571681148</td>\n",
       "      <td>1668571681758</td>\n",
       "      <td>0.882038</td>\n",
       "      <td>NaN</td>\n",
       "      <td>2022-11-16 04:08:00.723</td>\n",
       "    </tr>\n",
       "    <tr>\n",
       "      <th>2279</th>\n",
       "      <td>1668571680723</td>\n",
       "      <td>1668571681398</td>\n",
       "      <td>1668571682008</td>\n",
       "      <td>0.883671</td>\n",
       "      <td>NaN</td>\n",
       "      <td>2022-11-16 04:08:00.723</td>\n",
       "    </tr>\n",
       "  </tbody>\n",
       "</table>\n",
       "<p>2280 rows × 6 columns</p>\n",
       "</div>"
      ],
      "text/plain": [
       "       System Epoch       E4 Epoch  Corrected Epoch     Value  Unnamed: 4  \\\n",
       "0     1668571112272  1668571111648    1668571112258  0.007511         NaN   \n",
       "1     1668571112272  1668571111898    1668571112508  0.006662         NaN   \n",
       "2     1668571112277  1668571112148    1668571112758  0.005813         NaN   \n",
       "3     1668571112277  1668571112398    1668571113008  0.002482         NaN   \n",
       "4     1668571112277  1668571112648    1668571113258  0.000849         NaN   \n",
       "...             ...            ...              ...       ...         ...   \n",
       "2275  1668571680722  1668571680398    1668571681008  0.892097         NaN   \n",
       "2276  1668571680723  1668571680648    1668571681258  0.887851         NaN   \n",
       "2277  1668571680723  1668571680898    1668571681508  0.883671         NaN   \n",
       "2278  1668571680723  1668571681148    1668571681758  0.882038         NaN   \n",
       "2279  1668571680723  1668571681398    1668571682008  0.883671         NaN   \n",
       "\n",
       "                        Date  \n",
       "0    2022-11-16 03:58:32.272  \n",
       "1    2022-11-16 03:58:32.272  \n",
       "2    2022-11-16 03:58:32.277  \n",
       "3    2022-11-16 03:58:32.277  \n",
       "4    2022-11-16 03:58:32.277  \n",
       "...                      ...  \n",
       "2275 2022-11-16 04:08:00.722  \n",
       "2276 2022-11-16 04:08:00.723  \n",
       "2277 2022-11-16 04:08:00.723  \n",
       "2278 2022-11-16 04:08:00.723  \n",
       "2279 2022-11-16 04:08:00.723  \n",
       "\n",
       "[2280 rows x 6 columns]"
      ]
     },
     "execution_count": 14,
     "metadata": {},
     "output_type": "execute_result"
    }
   ],
   "source": [
    "df_empatica"
   ]
  },
  {
   "cell_type": "code",
   "execution_count": 15,
   "id": "eed805bb",
   "metadata": {},
   "outputs": [],
   "source": [
    "df_emotibit[\"Date\"] = pd.to_datetime(df_emotibit[\"Date\"], unit='ms')"
   ]
  },
  {
   "cell_type": "code",
   "execution_count": 16,
   "id": "de3ffa3e",
   "metadata": {},
   "outputs": [],
   "source": [
    "pd.set_option('display.max_rows', 500)"
   ]
  },
  {
   "cell_type": "code",
   "execution_count": 17,
   "id": "531f2387",
   "metadata": {},
   "outputs": [],
   "source": [
    "df_emotibit[['h','m','s']] = pd.DataFrame([(x.hour, x.minute, x.second) for x in df_emotibit['Date']])"
   ]
  },
  {
   "cell_type": "markdown",
   "id": "0bf9670b",
   "metadata": {},
   "source": [
    "# Emotibit Finger"
   ]
  },
  {
   "cell_type": "code",
   "execution_count": 18,
   "id": "065c70d6",
   "metadata": {
    "scrolled": true
   },
   "outputs": [
    {
     "data": {
      "text/plain": [
       "[<matplotlib.lines.Line2D at 0x242ace24250>]"
      ]
     },
     "execution_count": 18,
     "metadata": {},
     "output_type": "execute_result"
    },
    {
     "data": {
      "image/png": "[encoded data removed]",
      "text/plain": [
       "<Figure size 432x288 with 1 Axes>"
      ]
     },
     "metadata": {
      "needs_background": "light"
     },
     "output_type": "display_data"
    }
   ],
   "source": [
    "plt.plot(figsize=(12,6))\n",
    "plt.plot(Left)\n",
    "plt.plot(Right)"
   ]
  },
  {
   "cell_type": "code",
   "execution_count": 19,
   "id": "e6555d2a",
   "metadata": {
    "scrolled": true
   },
   "outputs": [],
   "source": [
    "Right = Right[::5]"
   ]
  },
  {
   "cell_type": "code",
   "execution_count": 20,
   "id": "47b4ff19",
   "metadata": {},
   "outputs": [],
   "source": [
    "Right =Right.reset_index()"
   ]
  },
  {
   "cell_type": "code",
   "execution_count": 21,
   "id": "0aa3cf2e",
   "metadata": {},
   "outputs": [
    {
     "data": {
      "text/plain": [
       "<matplotlib.legend.Legend at 0x242ad6d5d30>"
      ]
     },
     "execution_count": 21,
     "metadata": {},
     "output_type": "execute_result"
    },
    {
     "data": {
      "image/png": "[encoded data removed]",
      "text/plain": [
       "<Figure size 432x288 with 1 Axes>"
      ]
     },
     "metadata": {
      "needs_background": "light"
     },
     "output_type": "display_data"
    }
   ],
   "source": [
    "plt.plot(figsize=(12,6))\n",
    "plt.plot(Left)\n",
    "plt.plot(Right[\"EDA\"])\n",
    "plt.legend(['Empatica', 'Emotibit'])"
   ]
  },
  {
   "cell_type": "code",
   "execution_count": 22,
   "id": "9c035b11",
   "metadata": {},
   "outputs": [],
   "source": [
    "mean_emotibit=df_emotibit.groupby(['m', 's']).mean()"
   ]
  },
  {
   "cell_type": "code",
   "execution_count": 23,
   "id": "7ab3e639",
   "metadata": {},
   "outputs": [],
   "source": [
    "df_empatica[['h','m','s']] = pd.DataFrame([(x.hour, x.minute, x.second) for x in df_empatica['Date']])"
   ]
  },
  {
   "cell_type": "code",
   "execution_count": 24,
   "id": "dfb3b5c5",
   "metadata": {
    "scrolled": false
   },
   "outputs": [],
   "source": [
    "mean_empatica = df_empatica.groupby(['m', 's']).mean()"
   ]
  },
  {
   "cell_type": "code",
   "execution_count": 25,
   "id": "69fcb6c9",
   "metadata": {},
   "outputs": [],
   "source": [
    "mean_emotibit.reset_index(inplace=True)\n",
    "mean_empatica.reset_index(inplace=True)"
   ]
  },
  {
   "cell_type": "code",
   "execution_count": 26,
   "id": "7b4a001c",
   "metadata": {},
   "outputs": [],
   "source": [
    "emp = mean_empatica[\"Value\"]\n",
    "emo = mean_emotibit[\"EDA\"]"
   ]
  },
  {
   "cell_type": "code",
   "execution_count": 27,
   "id": "01b0a685",
   "metadata": {},
   "outputs": [
    {
     "data": {
      "text/plain": [
       "[<matplotlib.lines.Line2D at 0x242ad7651f0>]"
      ]
     },
     "execution_count": 27,
     "metadata": {},
     "output_type": "execute_result"
    },
    {
     "data": {
      "image/png": "[encoded data removed]",
      "text/plain": [
       "<Figure size 432x288 with 1 Axes>"
      ]
     },
     "metadata": {
      "needs_background": "light"
     },
     "output_type": "display_data"
    }
   ],
   "source": [
    "plt.plot(figsize=(12,6))\n",
    "plt.plot(emo)\n",
    "plt.plot(emp)"
   ]
  }
 ],
 "metadata": {
  "kernelspec": {
   "display_name": "Python 3",
   "language": "python",
   "name": "python3"
  },
  "language_info": {
   "codemirror_mode": {
    "name": "ipython",
    "version": 3
   },
   "file_extension": ".py",
   "mimetype": "text/x-python",
   "name": "python",
   "nbconvert_exporter": "python",
   "pygments_lexer": "ipython3",
   "version": "3.8.8"
  }
 },
 "nbformat": 4,
 "nbformat_minor": 5
}
