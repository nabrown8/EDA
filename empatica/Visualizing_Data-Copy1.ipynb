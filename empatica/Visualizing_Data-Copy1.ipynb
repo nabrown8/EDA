{
 "cells": [
  {
   "cell_type": "code",
   "execution_count": 1,
   "id": "6bb8f7e8",
   "metadata": {},
   "outputs": [],
   "source": [
    "import pandas as pd\n",
    "import numpy as np\n",
    "import cv2\n",
    "import os\n",
    "import matplotlib.pyplot as plt\n",
    "pd.set_option(\"display.float_format\", lambda x: '%.5f' % x)"
   ]
  },
  {
   "cell_type": "code",
   "execution_count": 2,
   "id": "78b80de8",
   "metadata": {},
   "outputs": [],
   "source": [
    "empatica = \"Empatica1669789258.0016158.csv\"\n",
    "emotibit = \"EmotiBit1669786133.2026055.csv\""
   ]
  },
  {
   "cell_type": "code",
   "execution_count": 3,
   "id": "8725d3d5",
   "metadata": {},
   "outputs": [],
   "source": [
    "df_empatica = pd.read_csv(empatica)\n",
    "\n",
    "df_emotibit = pd.read_csv(emotibit)"
   ]
  },
  {
   "cell_type": "code",
   "execution_count": 4,
   "id": "1ac5e423",
   "metadata": {},
   "outputs": [
    {
     "data": {
      "text/html": [
       "<div>\n",
       "<style scoped>\n",
       "    .dataframe tbody tr th:only-of-type {\n",
       "        vertical-align: middle;\n",
       "    }\n",
       "\n",
       "    .dataframe tbody tr th {\n",
       "        vertical-align: top;\n",
       "    }\n",
       "\n",
       "    .dataframe thead th {\n",
       "        text-align: right;\n",
       "    }\n",
       "</style>\n",
       "<table border=\"1\" class=\"dataframe\">\n",
       "  <thead>\n",
       "    <tr style=\"text-align: right;\">\n",
       "      <th></th>\n",
       "      <th>System Epoch</th>\n",
       "      <th>Device</th>\n",
       "      <th>Category</th>\n",
       "      <th>E4 Epoch</th>\n",
       "      <th>Value</th>\n",
       "    </tr>\n",
       "  </thead>\n",
       "  <tbody>\n",
       "    <tr>\n",
       "      <th>0</th>\n",
       "      <td>1669786144212</td>\n",
       "      <td>E4</td>\n",
       "      <td>Gsr</td>\n",
       "      <td>1669786142.96500</td>\n",
       "      <td>2.25849</td>\n",
       "    </tr>\n",
       "    <tr>\n",
       "      <th>1</th>\n",
       "      <td>1669786144215</td>\n",
       "      <td>E4</td>\n",
       "      <td>Gsr</td>\n",
       "      <td>1669786143.46500</td>\n",
       "      <td>2.25978</td>\n",
       "    </tr>\n",
       "    <tr>\n",
       "      <th>2</th>\n",
       "      <td>1669786144215</td>\n",
       "      <td>E4</td>\n",
       "      <td>Gsr</td>\n",
       "      <td>1669786143.71500</td>\n",
       "      <td>2.25593</td>\n",
       "    </tr>\n",
       "    <tr>\n",
       "      <th>3</th>\n",
       "      <td>1669786144215</td>\n",
       "      <td>E4</td>\n",
       "      <td>Gsr</td>\n",
       "      <td>1669786143.96500</td>\n",
       "      <td>2.25593</td>\n",
       "    </tr>\n",
       "    <tr>\n",
       "      <th>4</th>\n",
       "      <td>1669786144215</td>\n",
       "      <td>E4</td>\n",
       "      <td>Gsr</td>\n",
       "      <td>1669786144.21500</td>\n",
       "      <td>2.25081</td>\n",
       "    </tr>\n",
       "    <tr>\n",
       "      <th>...</th>\n",
       "      <td>...</td>\n",
       "      <td>...</td>\n",
       "      <td>...</td>\n",
       "      <td>...</td>\n",
       "      <td>...</td>\n",
       "    </tr>\n",
       "    <tr>\n",
       "      <th>1915</th>\n",
       "      <td>1669786622635</td>\n",
       "      <td>E4</td>\n",
       "      <td>Gsr</td>\n",
       "      <td>1669786621.46500</td>\n",
       "      <td>2.32399</td>\n",
       "    </tr>\n",
       "    <tr>\n",
       "      <th>1916</th>\n",
       "      <td>1669786622636</td>\n",
       "      <td>E4</td>\n",
       "      <td>Gsr</td>\n",
       "      <td>1669786621.96500</td>\n",
       "      <td>2.34064</td>\n",
       "    </tr>\n",
       "    <tr>\n",
       "      <th>1917</th>\n",
       "      <td>1669786622636</td>\n",
       "      <td>E4</td>\n",
       "      <td>Gsr</td>\n",
       "      <td>1669786622.21500</td>\n",
       "      <td>2.35985</td>\n",
       "    </tr>\n",
       "    <tr>\n",
       "      <th>1918</th>\n",
       "      <td>1669786622636</td>\n",
       "      <td>E4</td>\n",
       "      <td>Gsr</td>\n",
       "      <td>1669786622.46500</td>\n",
       "      <td>2.36882</td>\n",
       "    </tr>\n",
       "    <tr>\n",
       "      <th>1919</th>\n",
       "      <td>1669786622636</td>\n",
       "      <td>E4</td>\n",
       "      <td>Gsr</td>\n",
       "      <td>1669786622.71500</td>\n",
       "      <td>2.37266</td>\n",
       "    </tr>\n",
       "  </tbody>\n",
       "</table>\n",
       "<p>1920 rows × 5 columns</p>\n",
       "</div>"
      ],
      "text/plain": [
       "       System Epoch Device Category         E4 Epoch   Value\n",
       "0     1669786144212     E4      Gsr 1669786142.96500 2.25849\n",
       "1     1669786144215     E4      Gsr 1669786143.46500 2.25978\n",
       "2     1669786144215     E4      Gsr 1669786143.71500 2.25593\n",
       "3     1669786144215     E4      Gsr 1669786143.96500 2.25593\n",
       "4     1669786144215     E4      Gsr 1669786144.21500 2.25081\n",
       "...             ...    ...      ...              ...     ...\n",
       "1915  1669786622635     E4      Gsr 1669786621.46500 2.32399\n",
       "1916  1669786622636     E4      Gsr 1669786621.96500 2.34064\n",
       "1917  1669786622636     E4      Gsr 1669786622.21500 2.35985\n",
       "1918  1669786622636     E4      Gsr 1669786622.46500 2.36882\n",
       "1919  1669786622636     E4      Gsr 1669786622.71500 2.37266\n",
       "\n",
       "[1920 rows x 5 columns]"
      ]
     },
     "execution_count": 4,
     "metadata": {},
     "output_type": "execute_result"
    }
   ],
   "source": [
    "df_empatica"
   ]
  },
  {
   "cell_type": "markdown",
   "id": "46ed9d09",
   "metadata": {},
   "source": [
    "Normalizing"
   ]
  },
  {
   "cell_type": "code",
   "execution_count": 5,
   "id": "19abf41d",
   "metadata": {},
   "outputs": [],
   "source": [
    "df_emotibit[\"EDA\"] = (df_emotibit[\"EDA\"]-df_emotibit[\"EDA\"].min()) / (df_emotibit[\"EDA\"].max()-df_emotibit[\"EDA\"].min())\n",
    "\n",
    "df_empatica[\"Value\"] = (df_empatica[\"Value\"]-df_empatica[\"Value\"].min()) / (df_empatica[\"Value\"].max()-df_empatica[\"Value\"].min())"
   ]
  },
  {
   "cell_type": "markdown",
   "id": "f4481b3c",
   "metadata": {},
   "source": [
    "Delta Column for Empatica Data"
   ]
  },
  {
   "cell_type": "code",
   "execution_count": 6,
   "id": "3053abb2",
   "metadata": {},
   "outputs": [],
   "source": [
    "df_empatica[\"E4 Epoch\"] = df_empatica[\"E4 Epoch\"] *1000"
   ]
  },
  {
   "cell_type": "code",
   "execution_count": 11,
   "id": "ec6a6fc8",
   "metadata": {},
   "outputs": [
    {
     "data": {
      "text/plain": [
       "1247.0"
      ]
     },
     "execution_count": 11,
     "metadata": {},
     "output_type": "execute_result"
    }
   ],
   "source": [
    "offset = df_empatica[\"System Epoch\"][0]-df_empatica[\"E4 Epoch\"][0] \n",
    "offset"
   ]
  },
  {
   "cell_type": "code",
   "execution_count": 12,
   "id": "4b06cb3c",
   "metadata": {},
   "outputs": [],
   "source": [
    "df_empatica[\"Corrected Epoch\"] = df_empatica[\"E4 Epoch\"] + offset"
   ]
  },
  {
   "cell_type": "code",
   "execution_count": 13,
   "id": "b4df1c17",
   "metadata": {},
   "outputs": [
    {
     "data": {
      "text/html": [
       "<div>\n",
       "<style scoped>\n",
       "    .dataframe tbody tr th:only-of-type {\n",
       "        vertical-align: middle;\n",
       "    }\n",
       "\n",
       "    .dataframe tbody tr th {\n",
       "        vertical-align: top;\n",
       "    }\n",
       "\n",
       "    .dataframe thead th {\n",
       "        text-align: right;\n",
       "    }\n",
       "</style>\n",
       "<table border=\"1\" class=\"dataframe\">\n",
       "  <thead>\n",
       "    <tr style=\"text-align: right;\">\n",
       "      <th></th>\n",
       "      <th>System Epoch</th>\n",
       "      <th>Device</th>\n",
       "      <th>Category</th>\n",
       "      <th>E4 Epoch</th>\n",
       "      <th>Value</th>\n",
       "      <th>Corrected Epoch</th>\n",
       "    </tr>\n",
       "  </thead>\n",
       "  <tbody>\n",
       "    <tr>\n",
       "      <th>0</th>\n",
       "      <td>1669786144212</td>\n",
       "      <td>E4</td>\n",
       "      <td>Gsr</td>\n",
       "      <td>1669786142965.00000</td>\n",
       "      <td>0.63794</td>\n",
       "      <td>1669786144212.00000</td>\n",
       "    </tr>\n",
       "    <tr>\n",
       "      <th>1</th>\n",
       "      <td>1669786144215</td>\n",
       "      <td>E4</td>\n",
       "      <td>Gsr</td>\n",
       "      <td>1669786143465.00000</td>\n",
       "      <td>0.63872</td>\n",
       "      <td>1669786144712.00000</td>\n",
       "    </tr>\n",
       "    <tr>\n",
       "      <th>2</th>\n",
       "      <td>1669786144215</td>\n",
       "      <td>E4</td>\n",
       "      <td>Gsr</td>\n",
       "      <td>1669786143715.00000</td>\n",
       "      <td>0.63637</td>\n",
       "      <td>1669786144962.00000</td>\n",
       "    </tr>\n",
       "    <tr>\n",
       "      <th>3</th>\n",
       "      <td>1669786144215</td>\n",
       "      <td>E4</td>\n",
       "      <td>Gsr</td>\n",
       "      <td>1669786143965.00000</td>\n",
       "      <td>0.63637</td>\n",
       "      <td>1669786145212.00000</td>\n",
       "    </tr>\n",
       "    <tr>\n",
       "      <th>4</th>\n",
       "      <td>1669786144215</td>\n",
       "      <td>E4</td>\n",
       "      <td>Gsr</td>\n",
       "      <td>1669786144215.00000</td>\n",
       "      <td>0.63323</td>\n",
       "      <td>1669786145462.00000</td>\n",
       "    </tr>\n",
       "    <tr>\n",
       "      <th>...</th>\n",
       "      <td>...</td>\n",
       "      <td>...</td>\n",
       "      <td>...</td>\n",
       "      <td>...</td>\n",
       "      <td>...</td>\n",
       "      <td>...</td>\n",
       "    </tr>\n",
       "    <tr>\n",
       "      <th>1915</th>\n",
       "      <td>1669786622635</td>\n",
       "      <td>E4</td>\n",
       "      <td>Gsr</td>\n",
       "      <td>1669786621465.00000</td>\n",
       "      <td>0.67801</td>\n",
       "      <td>1669786622712.00000</td>\n",
       "    </tr>\n",
       "    <tr>\n",
       "      <th>1916</th>\n",
       "      <td>1669786622636</td>\n",
       "      <td>E4</td>\n",
       "      <td>Gsr</td>\n",
       "      <td>1669786621965.00000</td>\n",
       "      <td>0.68820</td>\n",
       "      <td>1669786623212.00000</td>\n",
       "    </tr>\n",
       "    <tr>\n",
       "      <th>1917</th>\n",
       "      <td>1669786622636</td>\n",
       "      <td>E4</td>\n",
       "      <td>Gsr</td>\n",
       "      <td>1669786622215.00000</td>\n",
       "      <td>0.69995</td>\n",
       "      <td>1669786623462.00000</td>\n",
       "    </tr>\n",
       "    <tr>\n",
       "      <th>1918</th>\n",
       "      <td>1669786622636</td>\n",
       "      <td>E4</td>\n",
       "      <td>Gsr</td>\n",
       "      <td>1669786622465.00000</td>\n",
       "      <td>0.70544</td>\n",
       "      <td>1669786623712.00000</td>\n",
       "    </tr>\n",
       "    <tr>\n",
       "      <th>1919</th>\n",
       "      <td>1669786622636</td>\n",
       "      <td>E4</td>\n",
       "      <td>Gsr</td>\n",
       "      <td>1669786622715.00000</td>\n",
       "      <td>0.70779</td>\n",
       "      <td>1669786623962.00000</td>\n",
       "    </tr>\n",
       "  </tbody>\n",
       "</table>\n",
       "<p>1920 rows × 6 columns</p>\n",
       "</div>"
      ],
      "text/plain": [
       "       System Epoch Device Category            E4 Epoch   Value  \\\n",
       "0     1669786144212     E4      Gsr 1669786142965.00000 0.63794   \n",
       "1     1669786144215     E4      Gsr 1669786143465.00000 0.63872   \n",
       "2     1669786144215     E4      Gsr 1669786143715.00000 0.63637   \n",
       "3     1669786144215     E4      Gsr 1669786143965.00000 0.63637   \n",
       "4     1669786144215     E4      Gsr 1669786144215.00000 0.63323   \n",
       "...             ...    ...      ...                 ...     ...   \n",
       "1915  1669786622635     E4      Gsr 1669786621465.00000 0.67801   \n",
       "1916  1669786622636     E4      Gsr 1669786621965.00000 0.68820   \n",
       "1917  1669786622636     E4      Gsr 1669786622215.00000 0.69995   \n",
       "1918  1669786622636     E4      Gsr 1669786622465.00000 0.70544   \n",
       "1919  1669786622636     E4      Gsr 1669786622715.00000 0.70779   \n",
       "\n",
       "         Corrected Epoch  \n",
       "0    1669786144212.00000  \n",
       "1    1669786144712.00000  \n",
       "2    1669786144962.00000  \n",
       "3    1669786145212.00000  \n",
       "4    1669786145462.00000  \n",
       "...                  ...  \n",
       "1915 1669786622712.00000  \n",
       "1916 1669786623212.00000  \n",
       "1917 1669786623462.00000  \n",
       "1918 1669786623712.00000  \n",
       "1919 1669786623962.00000  \n",
       "\n",
       "[1920 rows x 6 columns]"
      ]
     },
     "execution_count": 13,
     "metadata": {},
     "output_type": "execute_result"
    }
   ],
   "source": [
    "df_empatica"
   ]
  },
  {
   "cell_type": "markdown",
   "id": "7fb3eecc",
   "metadata": {},
   "source": [
    "Converting to timestamp and creating new column for readability and being able to align the data"
   ]
  },
  {
   "cell_type": "code",
   "execution_count": 14,
   "id": "e794ef80",
   "metadata": {},
   "outputs": [],
   "source": [
    "df_empatica[\"Date\"] = pd.to_datetime(df_empatica[\"Corrected Epoch\"], unit='ms')\n",
    "\n",
    "df_emotibit[\"Timestamp\"] = df_emotibit[\"Timestamp\"] *1000\n",
    "\n",
    "df_emotibit[\"Date\"] = pd.to_datetime(df_emotibit[\"Timestamp\"], unit='ms')"
   ]
  },
  {
   "cell_type": "markdown",
   "id": "61e85bb1",
   "metadata": {},
   "source": [
    "Aligning the data"
   ]
  },
  {
   "cell_type": "code",
   "execution_count": 15,
   "id": "6ed4a3a2",
   "metadata": {},
   "outputs": [],
   "source": [
    "val = df_empatica[\"Date\"][0]\n",
    "\n",
    "df_emotibit[\"Date\"]=df_emotibit[df_emotibit[\"Date\"]>=val]\n",
    "\n",
    "df_emotibit.dropna(inplace=True)"
   ]
  },
  {
   "cell_type": "markdown",
   "id": "8dfe21f9",
   "metadata": {},
   "source": [
    "Graphing the Data"
   ]
  },
  {
   "cell_type": "code",
   "execution_count": 16,
   "id": "ebdd1307",
   "metadata": {},
   "outputs": [],
   "source": [
    "Left = df_empatica[\"Value\"].dropna()"
   ]
  },
  {
   "cell_type": "markdown",
   "id": "c64b11ad",
   "metadata": {},
   "source": [
    "Clipping Major Outliers"
   ]
  },
  {
   "cell_type": "code",
   "execution_count": 17,
   "id": "2c9a9d09",
   "metadata": {
    "scrolled": true
   },
   "outputs": [],
   "source": [
    "df_empatica = df_empatica[df_empatica.Value<5]\n",
    "df_empatica = df_empatica[df_empatica.Value>=0]"
   ]
  },
  {
   "cell_type": "code",
   "execution_count": 18,
   "id": "092931ea",
   "metadata": {},
   "outputs": [],
   "source": [
    "Right = df_emotibit[\"EDA\"]"
   ]
  },
  {
   "cell_type": "code",
   "execution_count": 19,
   "id": "e6442367",
   "metadata": {},
   "outputs": [
    {
     "data": {
      "text/html": [
       "<div>\n",
       "<style scoped>\n",
       "    .dataframe tbody tr th:only-of-type {\n",
       "        vertical-align: middle;\n",
       "    }\n",
       "\n",
       "    .dataframe tbody tr th {\n",
       "        vertical-align: top;\n",
       "    }\n",
       "\n",
       "    .dataframe thead th {\n",
       "        text-align: right;\n",
       "    }\n",
       "</style>\n",
       "<table border=\"1\" class=\"dataframe\">\n",
       "  <thead>\n",
       "    <tr style=\"text-align: right;\">\n",
       "      <th></th>\n",
       "      <th>System Epoch</th>\n",
       "      <th>Device</th>\n",
       "      <th>Category</th>\n",
       "      <th>E4 Epoch</th>\n",
       "      <th>Value</th>\n",
       "      <th>Corrected Epoch</th>\n",
       "      <th>Date</th>\n",
       "    </tr>\n",
       "  </thead>\n",
       "  <tbody>\n",
       "    <tr>\n",
       "      <th>0</th>\n",
       "      <td>1669786144212</td>\n",
       "      <td>E4</td>\n",
       "      <td>Gsr</td>\n",
       "      <td>1669786142965.00000</td>\n",
       "      <td>0.63794</td>\n",
       "      <td>1669786144212.00000</td>\n",
       "      <td>2022-11-30 05:29:04.212000000</td>\n",
       "    </tr>\n",
       "    <tr>\n",
       "      <th>1</th>\n",
       "      <td>1669786144215</td>\n",
       "      <td>E4</td>\n",
       "      <td>Gsr</td>\n",
       "      <td>1669786143465.00000</td>\n",
       "      <td>0.63872</td>\n",
       "      <td>1669786144712.00000</td>\n",
       "      <td>2022-11-30 05:29:04.712000000</td>\n",
       "    </tr>\n",
       "    <tr>\n",
       "      <th>2</th>\n",
       "      <td>1669786144215</td>\n",
       "      <td>E4</td>\n",
       "      <td>Gsr</td>\n",
       "      <td>1669786143715.00000</td>\n",
       "      <td>0.63637</td>\n",
       "      <td>1669786144962.00000</td>\n",
       "      <td>2022-11-30 05:29:04.961999872</td>\n",
       "    </tr>\n",
       "    <tr>\n",
       "      <th>3</th>\n",
       "      <td>1669786144215</td>\n",
       "      <td>E4</td>\n",
       "      <td>Gsr</td>\n",
       "      <td>1669786143965.00000</td>\n",
       "      <td>0.63637</td>\n",
       "      <td>1669786145212.00000</td>\n",
       "      <td>2022-11-30 05:29:05.212000000</td>\n",
       "    </tr>\n",
       "    <tr>\n",
       "      <th>4</th>\n",
       "      <td>1669786144215</td>\n",
       "      <td>E4</td>\n",
       "      <td>Gsr</td>\n",
       "      <td>1669786144215.00000</td>\n",
       "      <td>0.63323</td>\n",
       "      <td>1669786145462.00000</td>\n",
       "      <td>2022-11-30 05:29:05.462000128</td>\n",
       "    </tr>\n",
       "    <tr>\n",
       "      <th>...</th>\n",
       "      <td>...</td>\n",
       "      <td>...</td>\n",
       "      <td>...</td>\n",
       "      <td>...</td>\n",
       "      <td>...</td>\n",
       "      <td>...</td>\n",
       "      <td>...</td>\n",
       "    </tr>\n",
       "    <tr>\n",
       "      <th>1915</th>\n",
       "      <td>1669786622635</td>\n",
       "      <td>E4</td>\n",
       "      <td>Gsr</td>\n",
       "      <td>1669786621465.00000</td>\n",
       "      <td>0.67801</td>\n",
       "      <td>1669786622712.00000</td>\n",
       "      <td>2022-11-30 05:37:02.712000000</td>\n",
       "    </tr>\n",
       "    <tr>\n",
       "      <th>1916</th>\n",
       "      <td>1669786622636</td>\n",
       "      <td>E4</td>\n",
       "      <td>Gsr</td>\n",
       "      <td>1669786621965.00000</td>\n",
       "      <td>0.68820</td>\n",
       "      <td>1669786623212.00000</td>\n",
       "      <td>2022-11-30 05:37:03.212000000</td>\n",
       "    </tr>\n",
       "    <tr>\n",
       "      <th>1917</th>\n",
       "      <td>1669786622636</td>\n",
       "      <td>E4</td>\n",
       "      <td>Gsr</td>\n",
       "      <td>1669786622215.00000</td>\n",
       "      <td>0.69995</td>\n",
       "      <td>1669786623462.00000</td>\n",
       "      <td>2022-11-30 05:37:03.462000128</td>\n",
       "    </tr>\n",
       "    <tr>\n",
       "      <th>1918</th>\n",
       "      <td>1669786622636</td>\n",
       "      <td>E4</td>\n",
       "      <td>Gsr</td>\n",
       "      <td>1669786622465.00000</td>\n",
       "      <td>0.70544</td>\n",
       "      <td>1669786623712.00000</td>\n",
       "      <td>2022-11-30 05:37:03.712000000</td>\n",
       "    </tr>\n",
       "    <tr>\n",
       "      <th>1919</th>\n",
       "      <td>1669786622636</td>\n",
       "      <td>E4</td>\n",
       "      <td>Gsr</td>\n",
       "      <td>1669786622715.00000</td>\n",
       "      <td>0.70779</td>\n",
       "      <td>1669786623962.00000</td>\n",
       "      <td>2022-11-30 05:37:03.961999872</td>\n",
       "    </tr>\n",
       "  </tbody>\n",
       "</table>\n",
       "<p>1920 rows × 7 columns</p>\n",
       "</div>"
      ],
      "text/plain": [
       "       System Epoch Device Category            E4 Epoch   Value  \\\n",
       "0     1669786144212     E4      Gsr 1669786142965.00000 0.63794   \n",
       "1     1669786144215     E4      Gsr 1669786143465.00000 0.63872   \n",
       "2     1669786144215     E4      Gsr 1669786143715.00000 0.63637   \n",
       "3     1669786144215     E4      Gsr 1669786143965.00000 0.63637   \n",
       "4     1669786144215     E4      Gsr 1669786144215.00000 0.63323   \n",
       "...             ...    ...      ...                 ...     ...   \n",
       "1915  1669786622635     E4      Gsr 1669786621465.00000 0.67801   \n",
       "1916  1669786622636     E4      Gsr 1669786621965.00000 0.68820   \n",
       "1917  1669786622636     E4      Gsr 1669786622215.00000 0.69995   \n",
       "1918  1669786622636     E4      Gsr 1669786622465.00000 0.70544   \n",
       "1919  1669786622636     E4      Gsr 1669786622715.00000 0.70779   \n",
       "\n",
       "         Corrected Epoch                          Date  \n",
       "0    1669786144212.00000 2022-11-30 05:29:04.212000000  \n",
       "1    1669786144712.00000 2022-11-30 05:29:04.712000000  \n",
       "2    1669786144962.00000 2022-11-30 05:29:04.961999872  \n",
       "3    1669786145212.00000 2022-11-30 05:29:05.212000000  \n",
       "4    1669786145462.00000 2022-11-30 05:29:05.462000128  \n",
       "...                  ...                           ...  \n",
       "1915 1669786622712.00000 2022-11-30 05:37:02.712000000  \n",
       "1916 1669786623212.00000 2022-11-30 05:37:03.212000000  \n",
       "1917 1669786623462.00000 2022-11-30 05:37:03.462000128  \n",
       "1918 1669786623712.00000 2022-11-30 05:37:03.712000000  \n",
       "1919 1669786623962.00000 2022-11-30 05:37:03.961999872  \n",
       "\n",
       "[1920 rows x 7 columns]"
      ]
     },
     "execution_count": 19,
     "metadata": {},
     "output_type": "execute_result"
    }
   ],
   "source": [
    "df_empatica"
   ]
  },
  {
   "cell_type": "code",
   "execution_count": 20,
   "id": "eed805bb",
   "metadata": {},
   "outputs": [],
   "source": [
    "df_emotibit[\"Date\"] = pd.to_datetime(df_emotibit[\"Date\"], unit='ms')"
   ]
  },
  {
   "cell_type": "code",
   "execution_count": 21,
   "id": "de3ffa3e",
   "metadata": {},
   "outputs": [],
   "source": [
    "pd.set_option('display.max_rows', 500)"
   ]
  },
  {
   "cell_type": "code",
   "execution_count": 22,
   "id": "531f2387",
   "metadata": {},
   "outputs": [],
   "source": [
    "df_emotibit[['h','m','s']] = pd.DataFrame([(x.hour, x.minute, x.second) for x in df_emotibit['Date']])"
   ]
  },
  {
   "cell_type": "markdown",
   "id": "0bf9670b",
   "metadata": {},
   "source": [
    "# Emotibit Finger"
   ]
  },
  {
   "cell_type": "code",
   "execution_count": 23,
   "id": "065c70d6",
   "metadata": {
    "scrolled": true
   },
   "outputs": [
    {
     "data": {
      "text/plain": [
       "[<matplotlib.lines.Line2D at 0x12ffdb722b0>]"
      ]
     },
     "execution_count": 23,
     "metadata": {},
     "output_type": "execute_result"
    },
    {
     "data": {
      "image/png": "[encoded data removed]",
      "text/plain": [
       "<Figure size 432x288 with 1 Axes>"
      ]
     },
     "metadata": {
      "needs_background": "light"
     },
     "output_type": "display_data"
    }
   ],
   "source": [
    "plt.plot(figsize=(12,6))\n",
    "plt.plot(Left)\n",
    "plt.plot(Right)"
   ]
  },
  {
   "cell_type": "code",
   "execution_count": 24,
   "id": "e6555d2a",
   "metadata": {
    "scrolled": true
   },
   "outputs": [],
   "source": [
    "Right = Right[::5]"
   ]
  },
  {
   "cell_type": "code",
   "execution_count": 25,
   "id": "47b4ff19",
   "metadata": {},
   "outputs": [],
   "source": [
    "Right =Right.reset_index()"
   ]
  },
  {
   "cell_type": "code",
   "execution_count": 26,
   "id": "0aa3cf2e",
   "metadata": {},
   "outputs": [
    {
     "data": {
      "text/plain": [
       "<matplotlib.legend.Legend at 0x12ffd6709d0>"
      ]
     },
     "execution_count": 26,
     "metadata": {},
     "output_type": "execute_result"
    },
    {
     "data": {
      "image/png": "[encoded data removed]",
      "text/plain": [
       "<Figure size 432x288 with 1 Axes>"
      ]
     },
     "metadata": {
      "needs_background": "light"
     },
     "output_type": "display_data"
    }
   ],
   "source": [
    "plt.plot(figsize=(12,6))\n",
    "plt.plot(Left)\n",
    "plt.plot(Right[\"EDA\"])\n",
    "plt.legend(['Empatica', 'Emotibit'])"
   ]
  },
  {
   "cell_type": "code",
   "execution_count": 27,
   "id": "9c035b11",
   "metadata": {},
   "outputs": [],
   "source": [
    "mean_emotibit=df_emotibit.groupby(['m', 's']).mean()"
   ]
  },
  {
   "cell_type": "code",
   "execution_count": 28,
   "id": "7ab3e639",
   "metadata": {},
   "outputs": [],
   "source": [
    "df_empatica[['h','m','s']] = pd.DataFrame([(x.hour, x.minute, x.second) for x in df_empatica['Date']])"
   ]
  },
  {
   "cell_type": "code",
   "execution_count": 29,
   "id": "dfb3b5c5",
   "metadata": {
    "scrolled": false
   },
   "outputs": [],
   "source": [
    "mean_empatica = df_empatica.groupby(['m', 's']).mean()"
   ]
  },
  {
   "cell_type": "code",
   "execution_count": 30,
   "id": "69fcb6c9",
   "metadata": {},
   "outputs": [],
   "source": [
    "mean_emotibit.reset_index(inplace=True)\n",
    "mean_empatica.reset_index(inplace=True)"
   ]
  },
  {
   "cell_type": "code",
   "execution_count": 31,
   "id": "7b4a001c",
   "metadata": {},
   "outputs": [],
   "source": [
    "emp = mean_empatica[\"Value\"]\n",
    "emo = mean_emotibit[\"EDA\"]"
   ]
  },
  {
   "cell_type": "code",
   "execution_count": 32,
   "id": "01b0a685",
   "metadata": {},
   "outputs": [
    {
     "data": {
      "text/plain": [
       "[<matplotlib.lines.Line2D at 0x12ffd3a1970>]"
      ]
     },
     "execution_count": 32,
     "metadata": {},
     "output_type": "execute_result"
    },
    {
     "data": {
      "image/png": "[encoded data removed]",
      "text/plain": [
       "<Figure size 432x288 with 1 Axes>"
      ]
     },
     "metadata": {
      "needs_background": "light"
     },
     "output_type": "display_data"
    }
   ],
   "source": [
    "plt.plot(figsize=(12,6))\n",
    "plt.plot(emo)\n",
    "plt.plot(emp)"
   ]
  },
  {
   "cell_type": "code",
   "execution_count": null,
   "id": "17e1e866",
   "metadata": {},
   "outputs": [],
   "source": []
  }
 ],
 "metadata": {
  "kernelspec": {
   "display_name": "Python 3",
   "language": "python",
   "name": "python3"
  },
  "language_info": {
   "codemirror_mode": {
    "name": "ipython",
    "version": 3
   },
   "file_extension": ".py",
   "mimetype": "text/x-python",
   "name": "python",
   "nbconvert_exporter": "python",
   "pygments_lexer": "ipython3",
   "version": "3.8.8"
  }
 },
 "nbformat": 4,
 "nbformat_minor": 5
}
